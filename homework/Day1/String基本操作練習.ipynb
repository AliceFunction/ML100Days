{
 "cells": [
  {
   "cell_type": "markdown",
   "metadata": {},
   "source": [
    "# String Operation"
   ]
  },
  {
   "cell_type": "markdown",
   "metadata": {},
   "source": [
    "---"
   ]
  },
  {
   "cell_type": "markdown",
   "metadata": {},
   "source": [
    "## 讀入練習資料"
   ]
  },
  {
   "cell_type": "code",
   "execution_count": 25,
   "metadata": {},
   "outputs": [],
   "source": [
    "import pandas as pd\n",
    "#TSV文件有別於CSV的文件是使用\\t作为分隔符，CSV則是使用,作为分隔符。\n",
    "dataset = pd.read_csv(r'Restaurant_Reviews.tsv', sep='\\t')"
   ]
  },
  {
   "cell_type": "code",
   "execution_count": 26,
   "metadata": {},
   "outputs": [],
   "source": [
    "all_review = dataset['Review'].values"
   ]
  },
  {
   "cell_type": "code",
   "execution_count": 29,
   "metadata": {},
   "outputs": [
    {
     "name": "stdout",
     "output_type": "stream",
     "text": [
      "W\n",
      "C\n",
      "N\n",
      "S\n",
      "T\n",
      "N\n",
      "H\n",
      "T\n",
      "T\n",
      "A\n",
      "S\n",
      "W\n",
      "T\n",
      "I\n",
      "I\n",
      "I\n",
      "H\n",
      "W\n",
      "T\n",
      "d\n",
      "T\n",
      "T\n",
      "S\n",
      "I\n",
      "S\n",
      "T\n",
      "-\n",
      "T\n",
      "T\n",
      "T\n",
      "A\n",
      "T\n",
      "I\n",
      "s\n",
      "O\n",
      "T\n",
      "A\n",
      "P\n",
      "M\n",
      "S\n",
      "T\n",
      "T\n",
      "H\n",
      "O\n",
      "F\n",
      "T\n",
      "I\n",
      "T\n",
      "I\n",
      "M\n",
      "W\n",
      "H\n",
      "T\n",
      "T\n",
      "T\n",
      "L\n",
      "T\n",
      "N\n",
      "T\n",
      "T\n",
      "A\n",
      "T\n",
      "T\n",
      "W\n",
      "W\n",
      "G\n",
      "A\n",
      "U\n",
      "W\n",
      "A\n",
      "T\n",
      "-\n",
      "T\n",
      "I\n",
      "I\n",
      "T\n",
      "2\n",
      "T\n",
      "T\n",
      "T\n",
      "C\n",
      "w\n",
      "T\n",
      "T\n",
      "T\n",
      "I\n",
      "T\n",
      "A\n",
      "O\n",
      "E\n",
      "I\n",
      "I\n",
      "N\n",
      "B\n",
      "s\n",
      "W\n",
      "W\n",
      "F\n",
      "I\n",
      "O\n",
      "O\n",
      "T\n",
      "B\n",
      "I\n",
      "T\n",
      "S\n",
      "T\n",
      "T\n",
      "W\n",
      "S\n",
      "R\n",
      "A\n",
      "T\n",
      "N\n",
      "G\n",
      "C\n",
      "I\n",
      "I\n",
      "K\n",
      "A\n",
      "I\n",
      "W\n",
      "S\n",
      "T\n",
      "W\n",
      "H\n",
      "B\n",
      "P\n",
      "I\n",
      "D\n",
      "T\n",
      "P\n",
      "T\n",
      "T\n",
      "D\n",
      "G\n",
      "I\n",
      "T\n",
      "H\n",
      "M\n",
      "D\n",
      "T\n",
      "M\n",
      "A\n",
      "N\n",
      "T\n",
      "T\n",
      "T\n",
      "I\n",
      "W\n",
      "M\n",
      "T\n",
      "W\n",
      "C\n",
      "S\n",
      "t\n",
      "t\n",
      "I\n",
      "t\n",
      "U\n",
      "I\n",
      "I\n",
      "T\n",
      "A\n",
      "R\n",
      "D\n",
      "T\n",
      "S\n",
      "I\n",
      "B\n",
      "W\n",
      "T\n",
      "T\n",
      "L\n",
      "E\n",
      "P\n",
      "T\n",
      "T\n",
      "N\n",
      "W\n",
      "T\n",
      "I\n",
      "I\n",
      "I\n",
      "L\n",
      "I\n",
      "T\n",
      "I\n",
      "W\n",
      "A\n",
      "y\n",
      "B\n",
      "W\n",
      "I\n",
      "I\n",
      "T\n",
      "T\n",
      "I\n",
      "V\n",
      "I\n",
      "I\n",
      "F\n",
      "T\n",
      "G\n",
      "S\n",
      "V\n",
      "I\n",
      "T\n",
      "M\n",
      "T\n",
      "I\n",
      "F\n",
      "M\n",
      "W\n",
      "E\n",
      "W\n",
      "S\n",
      "T\n",
      "W\n",
      "-\n",
      "T\n",
      "T\n",
      "L\n",
      "H\n",
      "I\n",
      "I\n",
      "T\n",
      "T\n",
      "A\n",
      "T\n",
      "T\n",
      "I\n",
      "V\n",
      "O\n",
      "G\n",
      "I\n",
      "T\n",
      "I\n",
      "I\n",
      "E\n",
      "H\n",
      "N\n",
      "B\n",
      "(\n",
      "l\n",
      "-\n",
      "S\n",
      "M\n",
      "T\n",
      "B\n",
      "O\n",
      "T\n",
      "T\n",
      "O\n",
      "N\n",
      "W\n",
      "F\n",
      "I\n",
      "T\n",
      "v\n",
      "I\n",
      "I\n",
      "T\n",
      "G\n",
      "T\n",
      "P\n",
      "T\n",
      "T\n",
      "J\n",
      "F\n",
      "T\n",
      "Y\n",
      "Y\n",
      "S\n",
      "T\n",
      "I\n",
      "I\n",
      "T\n",
      "I\n",
      "I\n",
      "I\n",
      "S\n",
      "I\n",
      "T\n",
      "I\n",
      "G\n",
      "T\n",
      "W\n",
      "T\n",
      "I\n",
      "W\n",
      "J\n",
      "T\n",
      "I\n",
      "I\n",
      "Y\n",
      "B\n",
      "I\n",
      "N\n",
      "T\n",
      "G\n",
      "P\n",
      "T\n",
      "F\n",
      "G\n",
      "T\n",
      "W\n",
      "A\n",
      "I\n",
      "I\n",
      "F\n",
      "S\n",
      "T\n",
      "N\n",
      "G\n",
      "T\n",
      "B\n",
      "B\n",
      "A\n",
      "A\n",
      "T\n",
      "A\n",
      "S\n",
      "A\n",
      "F\n",
      "T\n",
      "Y\n",
      "T\n",
      "I\n",
      "W\n",
      "T\n",
      "B\n",
      "W\n",
      "E\n",
      "I\n",
      "G\n",
      "F\n",
      "T\n",
      "O\n",
      "T\n",
      "t\n",
      "O\n",
      "T\n",
      "I\n",
      "T\n",
      "P\n",
      "T\n",
      "C\n",
      "5\n",
      "I\n",
      "W\n",
      "H\n",
      "E\n",
      "I\n",
      "I\n",
      "O\n",
      "S\n",
      "A\n",
      "B\n",
      "(\n",
      "T\n",
      "T\n",
      "P\n",
      "D\n",
      "S\n",
      "I\n",
      "M\n",
      "W\n",
      "T\n",
      "H\n",
      "I\n",
      "T\n",
      "T\n",
      "T\n",
      "A\n",
      "B\n",
      "I\n",
      "I\n",
      "R\n",
      "T\n",
      "I\n",
      "T\n",
      "T\n",
      "T\n",
      "W\n",
      "I\n",
      "I\n",
      "T\n",
      "T\n",
      "D\n",
      "I\n",
      "I\n",
      "I\n",
      "W\n",
      "S\n",
      "T\n",
      "I\n",
      "K\n",
      "S\n",
      "C\n",
      "T\n",
      "O\n",
      "I\n",
      "G\n",
      "T\n",
      "L\n",
      "I\n",
      "F\n",
      "S\n",
      "T\n",
      "I\n",
      "C\n",
      "F\n",
      "I\n",
      "I\n",
      "G\n",
      "B\n",
      "I\n",
      "F\n",
      "O\n",
      "F\n",
      "O\n",
      "F\n",
      "W\n",
      "W\n",
      "N\n",
      "T\n",
      "W\n",
      "S\n",
      "T\n",
      "I\n",
      "W\n",
      "S\n",
      "O\n",
      "S\n",
      "I\n",
      "d\n",
      "I\n",
      "W\n",
      "I\n",
      "I\n",
      "I\n",
      "A\n",
      "N\n",
      "E\n",
      "N\n",
      "W\n",
      "S\n",
      "T\n",
      "M\n",
      "I\n",
      "F\n",
      "I\n",
      "I\n",
      "T\n",
      "T\n",
      "T\n",
      "N\n",
      "B\n",
      "W\n",
      "D\n",
      "T\n",
      "I\n",
      "T\n",
      "T\n",
      "T\n",
      "I\n",
      "T\n",
      "L\n",
      "T\n",
      "V\n",
      "T\n",
      "G\n",
      "D\n",
      "T\n",
      "T\n",
      "W\n",
      "T\n",
      "W\n",
      "I\n",
      "W\n",
      "T\n",
      "S\n",
      "T\n",
      "D\n",
      "T\n",
      "T\n",
      "I\n",
      "I\n",
      "H\n",
      "I\n",
      "T\n",
      "W\n",
      "C\n",
      "T\n",
      "A\n",
      "T\n",
      "T\n",
      "T\n",
      "W\n",
      "I\n",
      "I\n",
      "C\n",
      "T\n",
      "T\n",
      "I\n",
      "O\n",
      "M\n",
      "T\n",
      "T\n",
      "I\n",
      "G\n",
      "B\n",
      "R\n",
      "E\n",
      "T\n",
      "i\n",
      "A\n",
      "A\n",
      "P\n",
      "O\n",
      "I\n",
      "A\n",
      "f\n",
      "T\n",
      "S\n",
      "A\n",
      "B\n",
      "T\n",
      "T\n",
      "E\n",
      "T\n",
      "T\n",
      "I\n",
      "T\n",
      "A\n",
      "I\n",
      "G\n",
      "W\n",
      "T\n",
      "I\n",
      "W\n",
      "T\n",
      "I\n",
      "N\n",
      "J\n",
      "L\n",
      "n\n",
      "T\n",
      "M\n",
      "I\n",
      "N\n",
      "I\n",
      "I\n",
      "H\n",
      "I\n",
      "A\n",
      "I\n",
      "A\n",
      "I\n",
      "M\n",
      "A\n",
      "A\n",
      "I\n",
      "G\n",
      "I\n",
      "T\n",
      "F\n",
      "A\n",
      "I\n",
      "E\n",
      "W\n",
      "W\n",
      "H\n",
      "O\n",
      "T\n",
      "I\n",
      "S\n",
      "T\n",
      "A\n",
      "B\n",
      "O\n",
      "I\n",
      "T\n",
      "A\n",
      "G\n",
      "A\n",
      "I\n",
      "M\n",
      "T\n",
      "G\n",
      "T\n",
      "O\n",
      "I\n",
      "I\n",
      "T\n",
      "I\n",
      "I\n",
      "I\n",
      "N\n",
      "I\n",
      "W\n",
      "T\n",
      "G\n",
      "C\n",
      "T\n",
      "I\n",
      "I\n",
      "W\n",
      "I\n",
      "!\n",
      "I\n",
      "T\n",
      "S\n",
      "A\n",
      "T\n",
      "M\n",
      "D\n",
      "T\n",
      "I\n",
      "I\n",
      "V\n",
      "T\n",
      "a\n",
      "P\n",
      "A\n",
      "B\n",
      "A\n",
      "I\n",
      "T\n",
      "F\n",
      "T\n",
      "S\n",
      "H\n",
      "O\n",
      "W\n",
      "T\n",
      "I\n",
      "A\n",
      "T\n",
      "T\n",
      "I\n",
      "O\n",
      "M\n",
      "T\n",
      "V\n",
      "W\n",
      "F\n",
      "G\n",
      "W\n",
      "V\n",
      "G\n",
      "I\n",
      "N\n",
      "T\n",
      "T\n",
      "H\n",
      "T\n",
      "I\n",
      "T\n",
      "I\n",
      "V\n",
      "T\n",
      "B\n",
      "E\n",
      "T\n",
      "T\n",
      "A\n",
      "T\n",
      "G\n",
      "d\n",
      "I\n",
      "A\n",
      "W\n",
      "A\n",
      "A\n",
      "I\n",
      "T\n",
      "I\n",
      "S\n",
      "I\n",
      "Y\n",
      "D\n",
      "V\n",
      "D\n",
      "T\n",
      "P\n",
      "T\n",
      "T\n",
      "G\n",
      "I\n",
      "I\n",
      "w\n",
      "T\n",
      "H\n",
      "W\n",
      "W\n",
      "I\n",
      "N\n",
      "A\n",
      "T\n",
      "I\n",
      "H\n",
      "O\n",
      "T\n",
      "I\n",
      "T\n",
      "W\n",
      "S\n",
      "I\n",
      "T\n",
      "N\n",
      "2\n",
      "I\n",
      "I\n",
      "O\n",
      "T\n",
      "T\n",
      "A\n",
      "W\n",
      "C\n",
      "T\n",
      "T\n",
      "S\n",
      "A\n",
      "G\n",
      "O\n",
      "A\n",
      "T\n",
      "A\n",
      "T\n",
      "R\n",
      "N\n",
      "O\n",
      "T\n",
      "P\n",
      "F\n",
      "T\n",
      "I\n",
      "N\n",
      "T\n",
      "I\n",
      "I\n",
      "W\n",
      "W\n",
      "T\n",
      "A\n",
      "I\n",
      "I\n",
      "W\n",
      "I\n",
      "T\n",
      "L\n",
      "W\n",
      "M\n",
      "W\n",
      "I\n",
      "T\n",
      "T\n",
      "T\n",
      "F\n",
      "T\n",
      "T\n",
      "B\n",
      "I\n",
      "T\n",
      "O\n",
      "T\n",
      "I\n",
      "*\n",
      "M\n",
      "G\n",
      "t\n",
      "W\n",
      "T\n",
      "T\n",
      "T\n",
      "S\n",
      "M\n",
      "U\n",
      "I\n",
      "J\n",
      "P\n",
      "B\n",
      "T\n",
      "T\n",
      "W\n",
      "I\n",
      "T\n",
      "G\n",
      "W\n",
      "O\n",
      "P\n",
      "T\n",
      "M\n",
      "S\n",
      "T\n",
      "T\n",
      "M\n",
      "O\n",
      "I\n",
      "A\n",
      "W\n",
      "T\n",
      "T\n",
      "I\n",
      "I\n",
      "N\n",
      "L\n",
      "T\n",
      "T\n",
      "T\n",
      "T\n",
      "I\n",
      "I\n",
      "I\n",
      "T\n",
      "T\n",
      "I\n",
      "T\n",
      "B\n",
      "D\n",
      "I\n",
      "T\n",
      "A\n",
      "W\n",
      "F\n",
      "F\n",
      "T\n",
      "I\n",
      "D\n",
      "V\n",
      "N\n",
      "B\n",
      "T\n",
      "I\n",
      "J\n",
      "I\n",
      "F\n",
      "I\n",
      "f\n",
      "T\n",
      "I\n",
      "I\n",
      "W\n",
      "T\n",
      "I\n",
      "I\n",
      "T\n",
      "B\n",
      "t\n",
      "I\n",
      "S\n",
      "T\n",
      "T\n",
      "M\n",
      "W\n",
      "S\n",
      "I\n",
      "W\n",
      "T\n",
      "T\n",
      "H\n",
      "I\n",
      "A\n",
      "T\n",
      "T\n",
      "F\n",
      "T\n",
      "T\n",
      "I\n",
      "t\n",
      "A\n",
      "M\n",
      "W\n",
      "T\n",
      "I\n",
      "G\n",
      "I\n",
      "N\n",
      "I\n",
      "T\n",
      "W\n",
      "I\n",
      "O\n",
      "I\n",
      "T\n",
      "A\n",
      "S\n",
      "N\n",
      "M\n",
      "T\n",
      "P\n",
      "W\n",
      "I\n",
      "I\n",
      "T\n",
      "I\n",
      "H\n",
      "O\n",
      "S\n",
      "T\n",
      "T\n",
      "A\n",
      "-\n",
      "A\n",
      "A\n",
      "T\n",
      "W\n",
      "T\n",
      "I\n",
      "V\n",
      "i\n",
      "H\n",
      "I\n",
      "T\n",
      "T\n",
      "I\n",
      "T\n",
      "W\n",
      "N\n",
      "T\n",
      "E\n",
      "T\n",
      "H\n",
      "I\n",
      "I\n",
      "I\n",
      "W\n",
      "D\n",
      "T\n",
      "I\n",
      "W\n",
      "W\n",
      "T\n",
      "T\n",
      "T\n",
      "D\n",
      "T\n",
      "T\n",
      "I\n",
      "P\n",
      "v\n",
      "N\n",
      "T\n",
      "T\n",
      "I\n",
      "I\n",
      "T\n",
      "M\n",
      "I\n",
      "T\n",
      "T\n",
      "C\n",
      "T\n",
      "B\n",
      "T\n",
      "T\n",
      "M\n",
      "T\n",
      "I\n",
      "I\n",
      "S\n",
      "A\n",
      "D\n",
      "I\n",
      "B\n",
      "H\n",
      "W\n",
      "I\n",
      "I\n",
      "T\n",
      "U\n",
      "T\n",
      "Y\n",
      "W\n",
      "t\n",
      "O\n",
      "I\n",
      "I\n",
      "I\n",
      "W\n",
      "F\n",
      "I\n",
      "A\n",
      "T\n",
      "S\n",
      "I\n",
      "I\n",
      "I\n",
      "T\n",
      "S\n",
      "A\n",
      "t\n",
      "I\n",
      "I\n",
      "A\n",
      "O\n",
      "T\n",
      "T\n"
     ]
    }
   ],
   "source": [
    "# alice\n",
    "for i in range(len(all_review)):\n",
    "    print(all_review[i][0])"
   ]
  },
  {
   "cell_type": "markdown",
   "metadata": {},
   "source": [
    "### 計算字串長度"
   ]
  },
  {
   "cell_type": "code",
   "execution_count": 3,
   "metadata": {},
   "outputs": [],
   "source": [
    "pratice_sentence = all_review[0]"
   ]
  },
  {
   "cell_type": "code",
   "execution_count": 35,
   "metadata": {},
   "outputs": [
    {
     "name": "stdout",
     "output_type": "stream",
     "text": [
      "原始字串: Honeslty it didn't taste THAT fresh.)\n",
      "字串長度: 37\n"
     ]
    }
   ],
   "source": [
    "## format 用法之後會有詳細講解，這裡先了解會將後方字串放入{}即可\n",
    "print('原始字串: {}'.format(pratice_sentence))\n",
    "## 運用len()得到字串長度\n",
    "print('字串長度: {}'.format(len(pratice_sentence)))"
   ]
  },
  {
   "cell_type": "markdown",
   "metadata": {},
   "source": [
    "### 取出特定字符"
   ]
  },
  {
   "cell_type": "code",
   "execution_count": 36,
   "metadata": {},
   "outputs": [
    {
     "name": "stdout",
     "output_type": "stream",
     "text": [
      "取出前五個字: Hones\n",
      "取出後五個字: esh.)\n",
      "取出後中間五個字: lty i\n"
     ]
    }
   ],
   "source": [
    "print('取出前五個字: {}'.format(pratice_sentence[:5]))\n",
    "print('取出後五個字: {}'.format(pratice_sentence[-5:]))\n",
    "print('取出後中間五個字: {}'.format(pratice_sentence[5:10]))"
   ]
  },
  {
   "cell_type": "markdown",
   "metadata": {},
   "source": [
    "### 合併字串"
   ]
  },
  {
   "cell_type": "code",
   "execution_count": 31,
   "metadata": {},
   "outputs": [
    {
     "name": "stdout",
     "output_type": "stream",
     "text": [
      "原始字串1: Wow... Loved this place.\n",
      "原始字串2: Crust is not good.\n"
     ]
    }
   ],
   "source": [
    "print('原始字串1: {}'.format(all_review[0]))\n",
    "print('原始字串2: {}'.format(all_review[1]))"
   ]
  },
  {
   "cell_type": "code",
   "execution_count": 32,
   "metadata": {},
   "outputs": [
    {
     "data": {
      "text/plain": [
       "'Wow... Loved this place.Crust is not good.'"
      ]
     },
     "execution_count": 32,
     "metadata": {},
     "output_type": "execute_result"
    }
   ],
   "source": [
    "##運用+符號可以直接合併兩字串\n",
    "all_review[0]+all_review[1]"
   ]
  },
  {
   "cell_type": "code",
   "execution_count": 33,
   "metadata": {},
   "outputs": [
    {
     "data": {
      "text/plain": [
       "'Wow... Loved this place.Crust is not good.'"
      ]
     },
     "execution_count": 33,
     "metadata": {},
     "output_type": "execute_result"
    }
   ],
   "source": [
    "## 運用join function\n",
    "''.join((all_review[0],all_review[1]))"
   ]
  },
  {
   "cell_type": "code",
   "execution_count": 30,
   "metadata": {},
   "outputs": [
    {
     "data": {
      "text/plain": [
       "'Wow... Loved this place./Crust is not good.'"
      ]
     },
     "execution_count": 30,
     "metadata": {},
     "output_type": "execute_result"
    }
   ],
   "source": [
    "## 加入separator\n",
    "'/'.join((all_review[0],all_review[1]),)"
   ]
  },
  {
   "cell_type": "code",
   "execution_count": null,
   "metadata": {},
   "outputs": [],
   "source": [
    "# alice\n"
   ]
  },
  {
   "cell_type": "markdown",
   "metadata": {},
   "source": [
    "### 常用特殊字符"
   ]
  },
  {
   "cell_type": "code",
   "execution_count": 10,
   "metadata": {},
   "outputs": [
    {
     "name": "stdout",
     "output_type": "stream",
     "text": [
      "Wow... Loved this place.\tCrust is not good.\n",
      "Wow... Loved this place.        Crust is not good.\n"
     ]
    }
   ],
   "source": [
    "## '\\t' == 8個空白格\n",
    "print(all_review[0]+'\\t'+all_review[1])\n",
    "##意思跟上方相同\n",
    "print(all_review[0]+'        '+all_review[1])"
   ]
  },
  {
   "cell_type": "code",
   "execution_count": 11,
   "metadata": {},
   "outputs": [
    {
     "name": "stdout",
     "output_type": "stream",
     "text": [
      "Wow... Loved this place.\n",
      "Crust is not good.\n"
     ]
    }
   ],
   "source": [
    "## '\\n' 換行\n",
    "print(all_review[0]+'\\n'+all_review[1])"
   ]
  },
  {
   "cell_type": "markdown",
   "metadata": {},
   "source": [
    "## 檢查字元是否在字串內"
   ]
  },
  {
   "cell_type": "code",
   "execution_count": 12,
   "metadata": {},
   "outputs": [
    {
     "name": "stdout",
     "output_type": "stream",
     "text": [
      "原始字串:   Crust is not good.\n"
     ]
    }
   ],
   "source": [
    "pratice_sentence = all_review[1]\n",
    "print('原始字串:   {}'.format(pratice_sentence))"
   ]
  },
  {
   "cell_type": "code",
   "execution_count": 13,
   "metadata": {},
   "outputs": [
    {
     "data": {
      "text/plain": [
       "True"
      ]
     },
     "execution_count": 13,
     "metadata": {},
     "output_type": "execute_result"
    }
   ],
   "source": [
    "'is' in pratice_sentence"
   ]
  },
  {
   "cell_type": "code",
   "execution_count": 14,
   "metadata": {},
   "outputs": [
    {
     "data": {
      "text/plain": [
       "False"
      ]
     },
     "execution_count": 14,
     "metadata": {},
     "output_type": "execute_result"
    }
   ],
   "source": [
    "'I' in pratice_sentence"
   ]
  },
  {
   "cell_type": "code",
   "execution_count": 15,
   "metadata": {},
   "outputs": [
    {
     "data": {
      "text/plain": [
       "True"
      ]
     },
     "execution_count": 15,
     "metadata": {},
     "output_type": "execute_result"
    }
   ],
   "source": [
    "'I' not in pratice_sentence"
   ]
  },
  {
   "cell_type": "markdown",
   "metadata": {},
   "source": [
    "### strip() "
   ]
  },
  {
   "cell_type": "code",
   "execution_count": 16,
   "metadata": {},
   "outputs": [],
   "source": [
    "pratice_sentence = all_review[1]"
   ]
  },
  {
   "cell_type": "code",
   "execution_count": 17,
   "metadata": {},
   "outputs": [
    {
     "name": "stdout",
     "output_type": "stream",
     "text": [
      "原始字串:   Crust is not good.\n"
     ]
    }
   ],
   "source": [
    "print('原始字串:   {}'.format(pratice_sentence))"
   ]
  },
  {
   "cell_type": "code",
   "execution_count": 18,
   "metadata": {},
   "outputs": [
    {
     "data": {
      "text/plain": [
       "' is not good.'"
      ]
     },
     "execution_count": 18,
     "metadata": {},
     "output_type": "execute_result"
    }
   ],
   "source": [
    "## 移除開頭\n",
    "pratice_sentence.strip('Crust')"
   ]
  },
  {
   "cell_type": "code",
   "execution_count": 19,
   "metadata": {},
   "outputs": [
    {
     "data": {
      "text/plain": [
       "'Crust is not '"
      ]
     },
     "execution_count": 19,
     "metadata": {},
     "output_type": "execute_result"
    }
   ],
   "source": [
    "## 移除尾部\n",
    "pratice_sentence.strip('good.')"
   ]
  },
  {
   "cell_type": "code",
   "execution_count": 20,
   "metadata": {},
   "outputs": [
    {
     "data": {
      "text/plain": [
       "'Crust is not good.'"
      ]
     },
     "execution_count": 20,
     "metadata": {},
     "output_type": "execute_result"
    }
   ],
   "source": [
    "## 由於is並不是開頭或結尾字符，因此返回原字串\n",
    "pratice_sentence.strip('is')"
   ]
  },
  {
   "cell_type": "code",
   "execution_count": 12,
   "metadata": {},
   "outputs": [
    {
     "data": {
      "text/plain": [
       "'Crust is not good.'"
      ]
     },
     "execution_count": 12,
     "metadata": {},
     "output_type": "execute_result"
    }
   ],
   "source": [
    "##移除開頭空格\n",
    "' Crust is not good.'.strip()"
   ]
  },
  {
   "cell_type": "markdown",
   "metadata": {},
   "source": [
    "### replace()"
   ]
  },
  {
   "cell_type": "code",
   "execution_count": 17,
   "metadata": {},
   "outputs": [
    {
     "name": "stdout",
     "output_type": "stream",
     "text": [
      "原始字串:   Not tasty and the texture was just nasty.\n"
     ]
    }
   ],
   "source": [
    "pratice_sentence = all_review[2]\n",
    "print('原始字串:   {}'.format(pratice_sentence))"
   ]
  },
  {
   "cell_type": "code",
   "execution_count": 18,
   "metadata": {},
   "outputs": [
    {
     "data": {
      "text/plain": [
       "'Not tasty and the texture was just disgusting.'"
      ]
     },
     "execution_count": 18,
     "metadata": {},
     "output_type": "execute_result"
    }
   ],
   "source": [
    "## 用disgusting取代nasty\n",
    "pratice_sentence.replace('nasty','disgusting')"
   ]
  },
  {
   "cell_type": "code",
   "execution_count": 19,
   "metadata": {},
   "outputs": [
    {
     "name": "stdout",
     "output_type": "stream",
     "text": [
      "Not tasty and the texture was just nasty.\n"
     ]
    }
   ],
   "source": [
    "# alice\n",
    "print(pratice_sentence)"
   ]
  },
  {
   "cell_type": "code",
   "execution_count": 24,
   "metadata": {},
   "outputs": [
    {
     "name": "stdout",
     "output_type": "stream",
     "text": [
      "NoT TasTy and The TexTure was jusT nasTy.\n",
      "NoT Tasty and the texture was just nasty.\n"
     ]
    }
   ],
   "source": [
    "## 最多取代兩次\n",
    "print(pratice_sentence.replace('t','T'))\n",
    "print(pratice_sentence.replace('t','T',2))"
   ]
  },
  {
   "cell_type": "markdown",
   "metadata": {},
   "source": [
    "### split()"
   ]
  },
  {
   "cell_type": "code",
   "execution_count": 14,
   "metadata": {},
   "outputs": [
    {
     "name": "stdout",
     "output_type": "stream",
     "text": [
      "原始字串:   Stopped by during the late May bank holiday off Rick Steve recommendation and loved it.\n"
     ]
    }
   ],
   "source": [
    "pratice_sentence = all_review[3]\n",
    "print('原始字串:   {}'.format(pratice_sentence))"
   ]
  },
  {
   "cell_type": "code",
   "execution_count": 15,
   "metadata": {},
   "outputs": [
    {
     "data": {
      "text/plain": [
       "['Stopped',\n",
       " 'by',\n",
       " 'during',\n",
       " 'the',\n",
       " 'late',\n",
       " 'May',\n",
       " 'bank',\n",
       " 'holiday',\n",
       " 'off',\n",
       " 'Rick',\n",
       " 'Steve',\n",
       " 'recommendation',\n",
       " 'and',\n",
       " 'loved',\n",
       " 'it.']"
      ]
     },
     "execution_count": 15,
     "metadata": {},
     "output_type": "execute_result"
    }
   ],
   "source": [
    "##用空格當分界隔開字串\n",
    "pratice_sentence.split(' ')"
   ]
  },
  {
   "cell_type": "code",
   "execution_count": 16,
   "metadata": {},
   "outputs": [
    {
     "name": "stdout",
     "output_type": "stream",
     "text": [
      "Stopped by during the late May bank holiday off Rick Steve recommendation and loved it.\n"
     ]
    }
   ],
   "source": [
    "# alice\n",
    "# split()不會改變資料原來的樣子\n",
    "print(pratice_sentence)"
   ]
  },
  {
   "cell_type": "code",
   "execution_count": 27,
   "metadata": {},
   "outputs": [
    {
     "data": {
      "text/plain": [
       "['Stopped',\n",
       " 'by',\n",
       " 'during',\n",
       " 'the',\n",
       " 'late',\n",
       " 'May',\n",
       " 'bank',\n",
       " 'holiday',\n",
       " 'off',\n",
       " 'Rick',\n",
       " 'Steve recommendation and loved it.']"
      ]
     },
     "execution_count": 27,
     "metadata": {},
     "output_type": "execute_result"
    }
   ],
   "source": [
    "##最多隔成10等分\n",
    "pratice_sentence.split(' ',maxsplit=10)"
   ]
  },
  {
   "cell_type": "markdown",
   "metadata": {},
   "source": [
    "--------"
   ]
  },
  {
   "cell_type": "markdown",
   "metadata": {},
   "source": [
    "### count()"
   ]
  },
  {
   "cell_type": "code",
   "execution_count": 28,
   "metadata": {},
   "outputs": [
    {
     "name": "stdout",
     "output_type": "stream",
     "text": [
      "原始字串:   The selection on the menu was great and so were the prices.\n"
     ]
    }
   ],
   "source": [
    "pratice_sentence = all_review[4]\n",
    "print('原始字串:   {}'.format(pratice_sentence))"
   ]
  },
  {
   "cell_type": "code",
   "execution_count": 29,
   "metadata": {},
   "outputs": [
    {
     "data": {
      "text/plain": [
       "3"
      ]
     },
     "execution_count": 29,
     "metadata": {},
     "output_type": "execute_result"
    }
   ],
   "source": [
    "## 計算a出現次數\n",
    "pratice_sentence.count('a') ## == pratice_sentence.count('a',0,len(pratice_sentence))"
   ]
  },
  {
   "cell_type": "code",
   "execution_count": 30,
   "metadata": {},
   "outputs": [
    {
     "data": {
      "text/plain": [
       "0"
      ]
     },
     "execution_count": 30,
     "metadata": {},
     "output_type": "execute_result"
    }
   ],
   "source": [
    "##規定計算區間\n",
    "pratice_sentence.count('a',2,10)"
   ]
  },
  {
   "cell_type": "markdown",
   "metadata": {},
   "source": [
    "### startswith() / endswith()"
   ]
  },
  {
   "cell_type": "code",
   "execution_count": 31,
   "metadata": {},
   "outputs": [
    {
     "name": "stdout",
     "output_type": "stream",
     "text": [
      "原始字串:   Now I am getting angry and I want my damn pho.\n"
     ]
    }
   ],
   "source": [
    "pratice_sentence = all_review[5]\n",
    "print('原始字串:   {}'.format(pratice_sentence))"
   ]
  },
  {
   "cell_type": "code",
   "execution_count": 32,
   "metadata": {},
   "outputs": [
    {
     "data": {
      "text/plain": [
       "True"
      ]
     },
     "execution_count": 32,
     "metadata": {},
     "output_type": "execute_result"
    }
   ],
   "source": [
    "##檢查字串開頭是否為Now\n",
    "pratice_sentence.startswith('Now')"
   ]
  },
  {
   "cell_type": "code",
   "execution_count": 33,
   "metadata": {},
   "outputs": [
    {
     "data": {
      "text/plain": [
       "True"
      ]
     },
     "execution_count": 33,
     "metadata": {},
     "output_type": "execute_result"
    }
   ],
   "source": [
    "##檢查字串結尾是否為.\n",
    "pratice_sentence.endswith('.')"
   ]
  },
  {
   "cell_type": "code",
   "execution_count": 34,
   "metadata": {},
   "outputs": [
    {
     "data": {
      "text/plain": [
       "False"
      ]
     },
     "execution_count": 34,
     "metadata": {},
     "output_type": "execute_result"
    }
   ],
   "source": [
    "pratice_sentence.endswith('I')"
   ]
  },
  {
   "cell_type": "markdown",
   "metadata": {},
   "source": [
    "### capitalize()"
   ]
  },
  {
   "cell_type": "code",
   "execution_count": 35,
   "metadata": {},
   "outputs": [
    {
     "data": {
      "text/plain": [
       "'We love python'"
      ]
     },
     "execution_count": 35,
     "metadata": {},
     "output_type": "execute_result"
    }
   ],
   "source": [
    "##將開頭轉換為大寫\n",
    "'we love python'.capitalize()"
   ]
  },
  {
   "cell_type": "markdown",
   "metadata": {},
   "source": [
    "### find() / index()"
   ]
  },
  {
   "cell_type": "code",
   "execution_count": 20,
   "metadata": {},
   "outputs": [
    {
     "name": "stdout",
     "output_type": "stream",
     "text": [
      "原始字串:   Honeslty it didn't taste THAT fresh.)\n"
     ]
    }
   ],
   "source": [
    "pratice_sentence = all_review[6]\n",
    "print('原始字串:   {}'.format(pratice_sentence))"
   ]
  },
  {
   "cell_type": "code",
   "execution_count": 23,
   "metadata": {},
   "outputs": [
    {
     "data": {
      "text/plain": [
       "6"
      ]
     },
     "execution_count": 23,
     "metadata": {},
     "output_type": "execute_result"
    }
   ],
   "source": [
    "## 尋找字串中 it 在哪\n",
    "pratice_sentence.find('t') ## == pratice_sentence.index('it')"
   ]
  },
  {
   "cell_type": "code",
   "execution_count": 24,
   "metadata": {},
   "outputs": [
    {
     "name": "stdout",
     "output_type": "stream",
     "text": [
      "t\n"
     ]
    }
   ],
   "source": [
    "# alice\n",
    "print(pratice_sentence[6])"
   ]
  },
  {
   "cell_type": "code",
   "execution_count": 22,
   "metadata": {},
   "outputs": [
    {
     "data": {
      "text/plain": [
       "'it'"
      ]
     },
     "execution_count": 22,
     "metadata": {},
     "output_type": "execute_result"
    }
   ],
   "source": [
    "pratice_sentence[9:9+len('it')]"
   ]
  },
  {
   "cell_type": "code",
   "execution_count": 39,
   "metadata": {},
   "outputs": [
    {
     "ename": "ValueError",
     "evalue": "substring not found",
     "output_type": "error",
     "traceback": [
      "\u001b[0;31m---------------------------------------------------------------------------\u001b[0m",
      "\u001b[0;31mValueError\u001b[0m                                Traceback (most recent call last)",
      "\u001b[0;32m<ipython-input-39-9ef5681f06c7>\u001b[0m in \u001b[0;36m<module>\u001b[0;34m\u001b[0m\n\u001b[1;32m      1\u001b[0m \u001b[0;31m## index與find功能相同，但找不到字元時會報錯，find會回報-1\u001b[0m\u001b[0;34m\u001b[0m\u001b[0;34m\u001b[0m\u001b[0;34m\u001b[0m\u001b[0m\n\u001b[0;32m----> 2\u001b[0;31m \u001b[0mpratice_sentence\u001b[0m\u001b[0;34m.\u001b[0m\u001b[0mindex\u001b[0m\u001b[0;34m(\u001b[0m\u001b[0;34m'where'\u001b[0m\u001b[0;34m)\u001b[0m\u001b[0;34m\u001b[0m\u001b[0;34m\u001b[0m\u001b[0m\n\u001b[0m",
      "\u001b[0;31mValueError\u001b[0m: substring not found"
     ]
    }
   ],
   "source": [
    "## index與find功能相同，但找不到字元時會報錯，find會回報-1\n",
    "pratice_sentence.index('where')"
   ]
  },
  {
   "cell_type": "code",
   "execution_count": 40,
   "metadata": {},
   "outputs": [
    {
     "data": {
      "text/plain": [
       "-1"
      ]
     },
     "execution_count": 40,
     "metadata": {},
     "output_type": "execute_result"
    }
   ],
   "source": [
    "pratice_sentence.find('where')"
   ]
  },
  {
   "cell_type": "markdown",
   "metadata": {},
   "source": [
    "## upper() / lower()"
   ]
  },
  {
   "cell_type": "code",
   "execution_count": 41,
   "metadata": {},
   "outputs": [
    {
     "name": "stdout",
     "output_type": "stream",
     "text": [
      "原始字串:   The potatoes were like rubber and you could tell they had been made up ahead of time being kept under a warmer.\n"
     ]
    }
   ],
   "source": [
    "pratice_sentence = all_review[7]\n",
    "print('原始字串:   {}'.format(pratice_sentence))"
   ]
  },
  {
   "cell_type": "code",
   "execution_count": 42,
   "metadata": {},
   "outputs": [
    {
     "data": {
      "text/plain": [
       "'THE POTATOES WERE LIKE RUBBER AND YOU COULD TELL THEY HAD BEEN MADE UP AHEAD OF TIME BEING KEPT UNDER A WARMER.'"
      ]
     },
     "execution_count": 42,
     "metadata": {},
     "output_type": "execute_result"
    }
   ],
   "source": [
    "##全部轉換為大寫\n",
    "pratice_sentence.upper()"
   ]
  },
  {
   "cell_type": "code",
   "execution_count": 43,
   "metadata": {},
   "outputs": [
    {
     "data": {
      "text/plain": [
       "'the potatoes were like rubber and you could tell they had been made up ahead of time being kept under a warmer.'"
      ]
     },
     "execution_count": 43,
     "metadata": {},
     "output_type": "execute_result"
    }
   ],
   "source": [
    "##全部轉換為小寫\n",
    "pratice_sentence.lower()"
   ]
  },
  {
   "cell_type": "markdown",
   "metadata": {},
   "source": [
    "## Counter()"
   ]
  },
  {
   "cell_type": "code",
   "execution_count": 44,
   "metadata": {},
   "outputs": [],
   "source": [
    "from collections import Counter"
   ]
  },
  {
   "cell_type": "code",
   "execution_count": 45,
   "metadata": {},
   "outputs": [
    {
     "name": "stdout",
     "output_type": "stream",
     "text": [
      "Counter({'e': 5, ' ': 4, 'r': 3, 't': 2, 'o': 2, 'T': 1, 'h': 1, 'f': 1, 'i': 1, 's': 1, 'w': 1, 'g': 1, 'a': 1, '.': 1})\n"
     ]
    }
   ],
   "source": [
    "##快速計算所有字元出現次數\n",
    "count_ = Counter(all_review[8])\n",
    "print(count_)"
   ]
  },
  {
   "cell_type": "code",
   "execution_count": 52,
   "metadata": {},
   "outputs": [
    {
     "data": {
      "text/plain": [
       "[('e', 5), (' ', 4), ('r', 3), ('t', 2), ('o', 2)]"
      ]
     },
     "execution_count": 52,
     "metadata": {},
     "output_type": "execute_result"
    }
   ],
   "source": [
    "##出現最多的字元(前五名)\n",
    "count_.most_common(5)"
   ]
  },
  {
   "cell_type": "code",
   "execution_count": 48,
   "metadata": {},
   "outputs": [
    {
     "data": {
      "text/plain": [
       "1"
      ]
     },
     "execution_count": 48,
     "metadata": {},
     "output_type": "execute_result"
    }
   ],
   "source": [
    "## l 字元出現過幾次\n",
    "count_.get('h')"
   ]
  },
  {
   "cell_type": "code",
   "execution_count": null,
   "metadata": {},
   "outputs": [],
   "source": []
  }
 ],
 "metadata": {
  "kernelspec": {
   "display_name": "Python 3",
   "language": "python",
   "name": "python3"
  },
  "language_info": {
   "codemirror_mode": {
    "name": "ipython",
    "version": 3
   },
   "file_extension": ".py",
   "mimetype": "text/x-python",
   "name": "python",
   "nbconvert_exporter": "python",
   "pygments_lexer": "ipython3",
   "version": "3.8.3"
  }
 },
 "nbformat": 4,
 "nbformat_minor": 2
}
